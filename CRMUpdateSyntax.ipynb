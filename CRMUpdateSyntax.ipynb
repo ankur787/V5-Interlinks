{
 "cells": [
  {
   "cell_type": "code",
   "execution_count": 1,
   "metadata": {},
   "outputs": [],
   "source": [
    "from sqlalchemy import create_engine\n",
    "import pandas as pd\n",
    "import numpy as np\n",
    "import glob\n",
    "import os"
   ]
  },
  {
   "cell_type": "code",
   "execution_count": 2,
   "metadata": {},
   "outputs": [],
   "source": [
    "server = 'DESKTOP-HOTS4AV'\n",
    "database = 'CRM_Data'\n",
    "driver = 'SQL Server Native Client 11.0'\n",
    "connection = f'mssql://@{server}/{database}?driver={driver}'\n",
    "\n",
    "engine = create_engine(connection)\n",
    "conn = engine.connect()"
   ]
  },
  {
   "cell_type": "code",
   "execution_count": 3,
   "metadata": {},
   "outputs": [
    {
     "data": {
      "text/plain": [
       "['crm_data (0).csv',\n",
       " 'crm_data (1).csv',\n",
       " 'crm_data (10).csv',\n",
       " 'crm_data (11).csv',\n",
       " 'crm_data (12).csv',\n",
       " 'crm_data (13).csv',\n",
       " 'crm_data (14).csv',\n",
       " 'crm_data (15).csv',\n",
       " 'crm_data (16).csv',\n",
       " 'crm_data (17).csv',\n",
       " 'crm_data (18).csv',\n",
       " 'crm_data (19).csv',\n",
       " 'crm_data (2).csv',\n",
       " 'crm_data (20).csv',\n",
       " 'crm_data (21).csv',\n",
       " 'crm_data (22).csv',\n",
       " 'crm_data (23).csv',\n",
       " 'crm_data (24).csv',\n",
       " 'crm_data (25).csv',\n",
       " 'crm_data (26).csv',\n",
       " 'crm_data (27).csv',\n",
       " 'crm_data (28).csv',\n",
       " 'crm_data (29).csv',\n",
       " 'crm_data (3).csv',\n",
       " 'crm_data (30).csv',\n",
       " 'crm_data (31).csv',\n",
       " 'crm_data (32).csv',\n",
       " 'crm_data (33).csv',\n",
       " 'crm_data (34).csv',\n",
       " 'crm_data (35).csv',\n",
       " 'crm_data (36).csv',\n",
       " 'crm_data (37).csv',\n",
       " 'crm_data (38).csv',\n",
       " 'crm_data (39).csv',\n",
       " 'crm_data (4).csv',\n",
       " 'crm_data (40).csv',\n",
       " 'crm_data (41).csv',\n",
       " 'crm_data (42).csv',\n",
       " 'crm_data (43).csv',\n",
       " 'crm_data (44).csv',\n",
       " 'crm_data (45).csv',\n",
       " 'crm_data (46).csv',\n",
       " 'crm_data (5).csv',\n",
       " 'crm_data (6).csv',\n",
       " 'crm_data (7).csv',\n",
       " 'crm_data (8).csv',\n",
       " 'crm_data (9).csv',\n",
       " 'crm_data_1.csv',\n",
       " 'crm_data_2.csv',\n",
       " 'crm_data_3.csv']"
      ]
     },
     "execution_count": 3,
     "metadata": {},
     "output_type": "execute_result"
    }
   ],
   "source": [
    "files_csv = glob.glob(\"*.csv\")\n",
    "files_csv"
   ]
  },
  {
   "cell_type": "code",
   "execution_count": 4,
   "metadata": {},
   "outputs": [],
   "source": [
    "df = pd.DataFrame()"
   ]
  },
  {
   "cell_type": "code",
   "execution_count": 5,
   "metadata": {},
   "outputs": [],
   "source": [
    "for f in files_csv:\n",
    "    data = pd.read_csv(f, sep=',', encoding='latin-1', low_memory=False)\n",
    "    df   = df.append(data)"
   ]
  },
  {
   "cell_type": "code",
   "execution_count": 6,
   "metadata": {},
   "outputs": [],
   "source": [
    "df.rename(columns={'CRM Update/Dialing Date Time':'CRM Update'}, inplace=True)\n",
    "df['Phone'] = df['Phone'].astype(str)\n",
    "df['Phone'] = df['Phone'].str.replace(\" ()\",\"\")\n",
    "df['Phone'] = df['Phone'].str.slice(2,11)\n",
    "df['Phone'] = df['Phone'].astype(int)\n",
    "df.columns = df.columns.str.replace(' ', '')\n",
    "df['Postcode'].replace('6163javasc', 6163, inplace=True)"
   ]
  },
  {
   "cell_type": "code",
   "execution_count": 7,
   "metadata": {},
   "outputs": [],
   "source": [
    "df['Postcode'] = df[\"Postcode\"].str.replace(' ', '')"
   ]
  },
  {
   "cell_type": "code",
   "execution_count": 8,
   "metadata": {},
   "outputs": [],
   "source": [
    "df[\"Agent\"]= df[\"Agent\"].str.replace('user', \"User \", case= False)\n",
    "df.rename(columns={'Agent':'UserID'}, inplace=True)"
   ]
  },
  {
   "cell_type": "code",
   "execution_count": 9,
   "metadata": {},
   "outputs": [],
   "source": [
    "n = []\n",
    "for i in df['UserID']:\n",
    "    if i == 'User 1':\n",
    "        n.append('Anisha Yadav')\n",
    "    elif i== 'User 2':\n",
    "        n.append('Daniel Lalchhanthuanga')\n",
    "    elif i== 'User 3':\n",
    "        n.append('Yawar Mallick')\n",
    "    elif i== 'User 4':\n",
    "        n.append('Free')\n",
    "    elif i== 'User 5':\n",
    "        n.append('Free')\n",
    "    elif i== 'User 6':\n",
    "        n.append('Free')\n",
    "    elif i== 'User 7':\n",
    "        n.append('Free')\n",
    "    elif i== 'User 8':\n",
    "        n.append('Shivani Tripathy')\n",
    "    elif i== 'User 9':\n",
    "        n.append('Sonia Satyan')\n",
    "    elif i== 'User 10':\n",
    "        n.append('Sharon')\n",
    "    elif i== 'User 11':\n",
    "        n.append('Akershit Mahajan')\n",
    "    elif i== 'User 12':\n",
    "        n.append('Shivani Godala')\n",
    "    elif i== 'User 13':\n",
    "        n.append('Mercer')\n",
    "    elif i== 'User 14':\n",
    "        n.append('Clinton')\n",
    "    elif i== 'User 15':\n",
    "        n.append('Ankit Kashyap')\n",
    "    elif i== 'User 16':\n",
    "        n.append('Free')\n",
    "    elif i== 'User 17':\n",
    "        n.append('Free')\n",
    "    elif i== 'User 18':\n",
    "        n.append('Free')\n",
    "    elif i== 'User 19':\n",
    "        n.append('Saurabh Nautiyal')\n",
    "    elif i== 'User 20':\n",
    "        n.append('Himanshu Sakhla')\n",
    "    elif i== 'User 21':\n",
    "        n.append('Harpreet')\n",
    "    else:\n",
    "        n.append('')\n",
    "        \n",
    "df['AgentName'] = n"
   ]
  },
  {
   "cell_type": "code",
   "execution_count": 10,
   "metadata": {},
   "outputs": [],
   "source": [
    "df['CRMUpdate'] = pd.to_datetime(df['CRMUpdate'])"
   ]
  },
  {
   "cell_type": "code",
   "execution_count": 11,
   "metadata": {},
   "outputs": [
    {
     "data": {
      "text/plain": [
       "Index(['Campaign', 'UserID', 'CRMUpdate', 'Lead', 'DialerDisposition',\n",
       "       'DialerAttempt', 'AgentDisposition', 'AgentSubDisposition',\n",
       "       'CRMAttempt', 'Phone', 'Title', 'FirstName', 'LastName', 'Address',\n",
       "       'City', 'State', 'Postcode', 'AgentName'],\n",
       "      dtype='object')"
      ]
     },
     "execution_count": 11,
     "metadata": {},
     "output_type": "execute_result"
    }
   ],
   "source": [
    "df.columns"
   ]
  },
  {
   "cell_type": "code",
   "execution_count": 12,
   "metadata": {},
   "outputs": [],
   "source": [
    "df= df[['Campaign', 'UserID','AgentName','CRMUpdate', 'Lead', 'DialerDisposition','DialerAttempt', 'AgentDisposition', 'AgentSubDisposition',\n",
    "       'CRMAttempt', 'Phone', 'Title', 'FirstName', 'LastName', 'Address','City', 'State', 'Postcode']]"
   ]
  },
  {
   "cell_type": "code",
   "execution_count": 13,
   "metadata": {},
   "outputs": [
    {
     "data": {
      "text/html": [
       "<div>\n",
       "<style scoped>\n",
       "    .dataframe tbody tr th:only-of-type {\n",
       "        vertical-align: middle;\n",
       "    }\n",
       "\n",
       "    .dataframe tbody tr th {\n",
       "        vertical-align: top;\n",
       "    }\n",
       "\n",
       "    .dataframe thead th {\n",
       "        text-align: right;\n",
       "    }\n",
       "</style>\n",
       "<table border=\"1\" class=\"dataframe\">\n",
       "  <thead>\n",
       "    <tr style=\"text-align: right;\">\n",
       "      <th></th>\n",
       "      <th>Campaign</th>\n",
       "      <th>UserID</th>\n",
       "      <th>AgentName</th>\n",
       "      <th>CRMUpdate</th>\n",
       "      <th>Lead</th>\n",
       "      <th>DialerDisposition</th>\n",
       "      <th>DialerAttempt</th>\n",
       "      <th>AgentDisposition</th>\n",
       "      <th>AgentSubDisposition</th>\n",
       "      <th>CRMAttempt</th>\n",
       "      <th>Phone</th>\n",
       "      <th>Title</th>\n",
       "      <th>FirstName</th>\n",
       "      <th>LastName</th>\n",
       "      <th>Address</th>\n",
       "      <th>City</th>\n",
       "      <th>State</th>\n",
       "      <th>Postcode</th>\n",
       "    </tr>\n",
       "  </thead>\n",
       "  <tbody>\n",
       "    <tr>\n",
       "      <td>0</td>\n",
       "      <td>MSMEDIAAUS</td>\n",
       "      <td>NaN</td>\n",
       "      <td></td>\n",
       "      <td>2020-01-21 12:09:59</td>\n",
       "      <td>WA_Landline_5k_</td>\n",
       "      <td>RINGING - NO ANSWER</td>\n",
       "      <td>5</td>\n",
       "      <td>NaN</td>\n",
       "      <td>NaN</td>\n",
       "      <td>0</td>\n",
       "      <td>861038289</td>\n",
       "      <td>NaN</td>\n",
       "      <td>H</td>\n",
       "      <td>Oliver</td>\n",
       "      <td>52 Johnson Pl</td>\n",
       "      <td>Wattle Grove</td>\n",
       "      <td>WA</td>\n",
       "      <td>6107</td>\n",
       "    </tr>\n",
       "    <tr>\n",
       "      <td>1</td>\n",
       "      <td>MSMEDIAAUS</td>\n",
       "      <td>NaN</td>\n",
       "      <td></td>\n",
       "      <td>2020-01-21 12:10:15</td>\n",
       "      <td>WA_Landline_5k_</td>\n",
       "      <td>RINGING - NO ANSWER</td>\n",
       "      <td>5</td>\n",
       "      <td>NaN</td>\n",
       "      <td>NaN</td>\n",
       "      <td>0</td>\n",
       "      <td>861500064</td>\n",
       "      <td>NaN</td>\n",
       "      <td>J</td>\n",
       "      <td>Lustono</td>\n",
       "      <td>11 Corona Crs</td>\n",
       "      <td>Cannington</td>\n",
       "      <td>WA</td>\n",
       "      <td>6107</td>\n",
       "    </tr>\n",
       "    <tr>\n",
       "      <td>2</td>\n",
       "      <td>MSMEDIAAUS</td>\n",
       "      <td>NaN</td>\n",
       "      <td></td>\n",
       "      <td>2020-01-21 12:10:15</td>\n",
       "      <td>WA_Landline_5k_</td>\n",
       "      <td>RINGING - NO ANSWER</td>\n",
       "      <td>5</td>\n",
       "      <td>NaN</td>\n",
       "      <td>NaN</td>\n",
       "      <td>0</td>\n",
       "      <td>861500136</td>\n",
       "      <td>NaN</td>\n",
       "      <td>A N</td>\n",
       "      <td>Mai</td>\n",
       "      <td>50 Russell St</td>\n",
       "      <td>East Cannington</td>\n",
       "      <td>WA</td>\n",
       "      <td>6107</td>\n",
       "    </tr>\n",
       "    <tr>\n",
       "      <td>3</td>\n",
       "      <td>MSMEDIAAUS</td>\n",
       "      <td>NaN</td>\n",
       "      <td></td>\n",
       "      <td>2020-01-21 12:09:26</td>\n",
       "      <td>WA_Landline_5k_</td>\n",
       "      <td>RINGING - NO ANSWER</td>\n",
       "      <td>5</td>\n",
       "      <td>NaN</td>\n",
       "      <td>NaN</td>\n",
       "      <td>0</td>\n",
       "      <td>861500730</td>\n",
       "      <td>NaN</td>\n",
       "      <td>M</td>\n",
       "      <td>Mulla</td>\n",
       "      <td>30 Prince St</td>\n",
       "      <td>Queens Park</td>\n",
       "      <td>WA</td>\n",
       "      <td>6107</td>\n",
       "    </tr>\n",
       "    <tr>\n",
       "      <td>4</td>\n",
       "      <td>MSMEDIAAUS</td>\n",
       "      <td>NaN</td>\n",
       "      <td></td>\n",
       "      <td>2020-01-21 12:10:15</td>\n",
       "      <td>WA_Landline_5k_</td>\n",
       "      <td>RINGING - NO ANSWER</td>\n",
       "      <td>5</td>\n",
       "      <td>NaN</td>\n",
       "      <td>NaN</td>\n",
       "      <td>0</td>\n",
       "      <td>861502619</td>\n",
       "      <td>NaN</td>\n",
       "      <td>T</td>\n",
       "      <td>Mcmahon</td>\n",
       "      <td>5 Mcguiness Turn</td>\n",
       "      <td>Wattle Grove</td>\n",
       "      <td>WA</td>\n",
       "      <td>6107</td>\n",
       "    </tr>\n",
       "  </tbody>\n",
       "</table>\n",
       "</div>"
      ],
      "text/plain": [
       "     Campaign UserID AgentName           CRMUpdate             Lead  \\\n",
       "0  MSMEDIAAUS    NaN           2020-01-21 12:09:59  WA_Landline_5k_   \n",
       "1  MSMEDIAAUS    NaN           2020-01-21 12:10:15  WA_Landline_5k_   \n",
       "2  MSMEDIAAUS    NaN           2020-01-21 12:10:15  WA_Landline_5k_   \n",
       "3  MSMEDIAAUS    NaN           2020-01-21 12:09:26  WA_Landline_5k_   \n",
       "4  MSMEDIAAUS    NaN           2020-01-21 12:10:15  WA_Landline_5k_   \n",
       "\n",
       "     DialerDisposition  DialerAttempt AgentDisposition AgentSubDisposition  \\\n",
       "0  RINGING - NO ANSWER              5              NaN                 NaN   \n",
       "1  RINGING - NO ANSWER              5              NaN                 NaN   \n",
       "2  RINGING - NO ANSWER              5              NaN                 NaN   \n",
       "3  RINGING - NO ANSWER              5              NaN                 NaN   \n",
       "4  RINGING - NO ANSWER              5              NaN                 NaN   \n",
       "\n",
       "   CRMAttempt      Phone Title FirstName LastName           Address  \\\n",
       "0           0  861038289   NaN         H   Oliver     52 Johnson Pl   \n",
       "1           0  861500064   NaN         J  Lustono     11 Corona Crs   \n",
       "2           0  861500136   NaN       A N      Mai     50 Russell St   \n",
       "3           0  861500730   NaN         M    Mulla      30 Prince St   \n",
       "4           0  861502619   NaN         T  Mcmahon  5 Mcguiness Turn   \n",
       "\n",
       "              City State Postcode  \n",
       "0     Wattle Grove    WA     6107  \n",
       "1       Cannington    WA     6107  \n",
       "2  East Cannington    WA     6107  \n",
       "3      Queens Park    WA     6107  \n",
       "4     Wattle Grove    WA     6107  "
      ]
     },
     "execution_count": 13,
     "metadata": {},
     "output_type": "execute_result"
    }
   ],
   "source": [
    "df.head()"
   ]
  },
  {
   "cell_type": "code",
   "execution_count": 14,
   "metadata": {},
   "outputs": [],
   "source": [
    "df.to_sql('CRM_info', engine, if_exists='replace', index=False)"
   ]
  },
  {
   "cell_type": "code",
   "execution_count": 15,
   "metadata": {},
   "outputs": [
    {
     "data": {
      "text/plain": [
       "(1348160, 18)"
      ]
     },
     "execution_count": 15,
     "metadata": {},
     "output_type": "execute_result"
    }
   ],
   "source": [
    "df.shape"
   ]
  }
 ],
 "metadata": {
  "kernelspec": {
   "display_name": "Python 3",
   "language": "python",
   "name": "python3"
  },
  "language_info": {
   "codemirror_mode": {
    "name": "ipython",
    "version": 3
   },
   "file_extension": ".py",
   "mimetype": "text/x-python",
   "name": "python",
   "nbconvert_exporter": "python",
   "pygments_lexer": "ipython3",
   "version": "3.7.4"
  }
 },
 "nbformat": 4,
 "nbformat_minor": 2
}
